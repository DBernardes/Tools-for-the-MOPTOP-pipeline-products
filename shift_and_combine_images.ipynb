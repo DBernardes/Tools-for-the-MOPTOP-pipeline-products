{
 "cells": [
  {
   "attachments": {},
   "cell_type": "markdown",
   "metadata": {},
   "source": [
    "# This is a script to shift and combined images for the 16 positions of the rotor of MOPTOP"
   ]
  },
  {
   "cell_type": "code",
   "execution_count": null,
   "metadata": {},
   "outputs": [],
   "source": [
    "from photometry import Photometry\n",
    "import os\n",
    "import pandas as pd\n",
    "from scripts.tools import sort_files\n",
    "import matplotlib.pyplot as plt\n",
    "from copy import copy\n",
    "import astropy.io.fits as fits\n",
    "\n",
    "star_name = \"GRB 230818A\"\n",
    "experiment = \"all data\"\n",
    "_set = \"first\"\n",
    "\n",
    "max_box_size = 30\n",
    "src_path = os.path.join(\n",
    "    \"..\",\n",
    "    \"Pol charact MOPTOP\",\n",
    "    \"Scientific objects\",\n",
    "    star_name,\n",
    "    experiment,\n",
    "    f\"{_set} set\",\n",
    "    star_name,\n",
    ")\n",
    "\n",
    "\n",
    "objects = {\n",
    "    \"name\": [\"object\"],\n",
    "    \"ra\": [\"19:03:31.4215\"],\n",
    "    \"dec\": [\"+40:53:36.070\"],\n",
    "}\n",
    "coords = {\n",
    "    \"run_num\": [],\n",
    "    \"exp_num\": [],\n",
    "    \"cam3_x\": [],\n",
    "    \"cam3_y\": [],\n",
    "    \"cam4_x\": [],\n",
    "    \"cam4_y\": [],\n",
    "}\n",
    "objects = pd.DataFrame.from_dict(objects)\n",
    "\n",
    "for cam in [3, 4]:\n",
    "    image_list = sort_files(src_path, f\"{cam}_e\")\n",
    "    for file in image_list:\n",
    "        file_path = os.path.join(src_path, file)\n",
    "        hdr = fits.getheader(file_path)\n",
    "        phot = Photometry(file_path, objects, max_box_size)\n",
    "        phot.reset_object_coords()\n",
    "        obj = phot.obj_list[0]\n",
    "        coords[f\"cam{cam}_x\"].append(obj.xcoord)\n",
    "        coords[f\"cam{cam}_y\"].append(obj.ycoord)\n",
    "        if cam == 3:\n",
    "            hdr = fits.getheader(file_path)\n",
    "            coords[\"run_num\"].append(hdr[\"RUNNUM\"])\n",
    "            coords[\"exp_num\"].append(hdr[\"EXPNUM\"])\n",
    "\n",
    "\n",
    "df = pd.DataFrame.from_dict(coords)\n",
    "csv_file = os.path.join(src_path, \"..\", \"shifts\", f\"star_coords.csv\")\n",
    "df.sort_values(by=[\"run_num\"])\n",
    "df.to_csv(csv_file, index=False)"
   ]
  },
  {
   "attachments": {},
   "cell_type": "markdown",
   "metadata": {},
   "source": [
    "# CCD frame after the shift"
   ]
  },
  {
   "cell_type": "code",
   "execution_count": 24,
   "metadata": {},
   "outputs": [
    {
     "data": {
      "image/png": "[encoded data removed]",
      "text/plain": [
       "<Figure size 640x480 with 1 Axes>"
      ]
     },
     "metadata": {},
     "output_type": "display_data"
    }
   ],
   "source": [
    "import numpy as np\n",
    "import matplotlib.patches as patches\n",
    "\n",
    "file_path = os.path.join(src_path, \"..\", \"shifts\", \"star_coords.csv\")\n",
    "df = pd.read_csv(file_path)\n",
    "x, y = df[\"cam3_x\"], df[\"cam3_y\"]\n",
    "max_var_x = np.max(np.abs(x - x[0]))\n",
    "max_var_y = np.max(np.abs(y - y[0]))\n",
    "\n",
    "fig, ax = plt.subplots()\n",
    "rect = patches.Rectangle(\n",
    "    (max_var_x, max_var_y),\n",
    "    1024 - 2 * max_var_x,\n",
    "    1024 - 2 * max_var_y,\n",
    "    linewidth=1,\n",
    "    edgecolor=\"r\",\n",
    "    facecolor=\"none\",\n",
    ")\n",
    "ax.add_patch(rect)\n",
    "plt.plot(x, y, \"bo\")\n",
    "x, y = df[\"cam4_x\"], df[\"cam4_y\"]\n",
    "plt.plot(x, y, \"go\")\n",
    "plt.xlim(0, 1024)\n",
    "plt.ylim(0, 1024)\n",
    "plt.show()\n",
    "plt.show()"
   ]
  },
  {
   "attachments": {},
   "cell_type": "markdown",
   "metadata": {},
   "source": [
    "# Combine images using shifts"
   ]
  },
  {
   "cell_type": "code",
   "execution_count": null,
   "metadata": {},
   "outputs": [],
   "source": [
    "from fits_files import FITS_files_manager\n",
    "\n",
    "ffiles = FITS_files_manager(src_path)"
   ]
  }
 ],
 "metadata": {
  "kernelspec": {
   "display_name": "Python 3",
   "language": "python",
   "name": "python3"
  },
  "language_info": {
   "codemirror_mode": {
    "name": "ipython",
    "version": 3
   },
   "file_extension": ".py",
   "mimetype": "text/x-python",
   "name": "python",
   "nbconvert_exporter": "python",
   "pygments_lexer": "ipython3",
   "version": "3.11.4"
  },
  "orig_nbformat": 4
 },
 "nbformat": 4,
 "nbformat_minor": 2
}
